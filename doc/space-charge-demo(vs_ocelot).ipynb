{
 "cells": [
  {
   "cell_type": "markdown",
   "metadata": {},
   "source": [
    "# Space charge fields of a relativistic electron beam \n",
    "\n",
    "Here is a test of the account for the space-charge fields of a relativistic electron beam. We compare \n",
    "- the particle tracker code OCELOT (<https://github.com/iagapov/ocelot/>), where the Poisson equation is solverd in a beam rest frame via FFT technique\n",
    "\n",
    "with CHIMERA, where two modes of space-charge modeling are avaliable \n",
    "\n",
    "- full PIC modeling with quasi-cylindrical PSATD solver\n",
    "- space-charge kicker, where relativistic Maxwell equations are solved in static approximation via FFT+DHT technique\n"
   ]
  },
  {
   "cell_type": "code",
   "execution_count": 1,
   "metadata": {},
   "outputs": [
    {
     "name": "stdout",
     "output_type": "stream",
     "text": [
      "initializing ocelot...\n"
     ]
    }
   ],
   "source": [
    "%matplotlib inline\n",
    "import numpy as np\n",
    "from scipy.constants import e\n",
    "import matplotlib.pyplot as plt\n",
    "import sys\n",
    "\n",
    "import ocelot as oclt\n",
    "\n",
    "from chimera.moduls.species import Specie\n",
    "from chimera.moduls.solvers import Solver\n",
    "from chimera.moduls.chimera_main import ChimeraRun\n",
    "from chimera.moduls.diagnostics import Diagnostics\n",
    "from chimera.moduls import fimera as chimera"
   ]
  },
  {
   "cell_type": "markdown",
   "metadata": {},
   "source": [
    "As a simplest test, we consider a 20 $\\mu$m drift of a 30 pC electron beam with the gaussian density profiles $\\sigma_z=\\sigma_r=3$ $\\mu$m, with the longitudinal momentum $p_z=50\\, m_e c $. Initially beam has no energy spread and zero divergence."
   ]
  },
  {
   "cell_type": "code",
   "execution_count": 2,
   "metadata": {
    "collapsed": true
   },
   "outputs": [],
   "source": [
    "SimLgth = 20.\n",
    "pz0 = 50.\n",
    "Chrg = 30e-12\n",
    "Size = 3.\n",
    "\n",
    "nmax = Chrg/e/((Size*1.e-4)**3*(2*np.pi)**1.5)/(1.1e21)"
   ]
  },
  {
   "cell_type": "markdown",
   "metadata": {
    "collapsed": true
   },
   "source": [
    "## OCELOT simulation"
   ]
  },
  {
   "cell_type": "code",
   "execution_count": 3,
   "metadata": {},
   "outputs": [
    {
     "name": "stdout",
     "output_type": "stream",
     "text": [
      "length of the cell:  1.9999999999999998e-05 m\n",
      "2.0000000000000005e-05/1.9999999999999998e-05"
     ]
    }
   ],
   "source": [
    "Np = int(1e6)\n",
    "BeamCharge = Chrg\n",
    "parts0 = np.zeros((6,Np))\n",
    "\n",
    "parts0[0] = Size*1e-6*np.random.randn(Np)\n",
    "parts0[2] = Size*1e-6*np.random.randn(Np)\n",
    "parts0[4] = Size*1e-6*np.random.randn(Np)\n",
    "p_array_init = oclt.ParticleArray(n=Np)\n",
    "p_array_init.rparticles[:] = parts0 #.T.flatten()\n",
    "p_array_init.E = (1+pz0**2)**.5*0.511e-3\n",
    "p_array_init.s = 0.0\n",
    "p_array_init.q_array = (BeamCharge/Np)*np.ones(Np)\n",
    "\n",
    "D1  = oclt.Drift(l = SimLgth*1e-6 )\n",
    "D2  = oclt.Drift(l=0)\n",
    "cell = (D1,D2)\n",
    "\n",
    "sc1 = oclt.SpaceCharge()\n",
    "sc1.nmesh_xyz = [63, 63, 63]\n",
    "sc1.low_order_kick = False\n",
    "sc1.step = 1\n",
    "\n",
    "method = oclt.MethodTM()\n",
    "lat = oclt.MagneticLattice(cell,method=method)\n",
    "print(\"length of the cell: \", lat.totalLen, \"m\")\n",
    "\n",
    "navi = oclt.Navigator(lat)\n",
    "navi.add_physics_proc(sc1,lat.sequence[0],lat.sequence[-1])\n",
    "p_array = oclt.deepcopy(p_array_init)\n",
    "\n",
    "dz = 1e-6\n",
    "LL = p_array.s\n",
    "SS  = []\n",
    "Sx  = []\n",
    "Sy  = []\n",
    "Sz  = []\n",
    "Ex = []\n",
    "Ey = []\n",
    "\n",
    "while LL<lat.totalLen:\n",
    "    oclt.tracking_step(lat, p_array, dz,navi)\n",
    "    proc_list = navi.get_proc_list()\n",
    "    for p in proc_list:\n",
    "        p.z0 = navi.z0\n",
    "        p.apply(p_array, dz)\n",
    "    LL += dz\n",
    "    sys.stdout.write('\\r'+str(LL)+'/'+str(lat.totalLen))\n",
    "    sys.stdout.flush()"
   ]
  },
  {
   "cell_type": "markdown",
   "metadata": {},
   "source": [
    "## CHIMERA with solver in \"StaticKick\" mode"
   ]
  },
  {
   "cell_type": "code",
   "execution_count": 4,
   "metadata": {},
   "outputs": [
    {
     "name": "stdout",
     "output_type": "stream",
     "text": [
      "Constructing solver with cylindric boundaries:\n",
      "** left=-19.2, right=21, radius=90.1\n",
      "Spatial and temporal resolutions:\n",
      "** dx=0.14, dr=0.3, dt=1\n",
      "Solver is active from t=0 to t=inf\n",
      "Grid sizes are:\n",
      "** Nx=288, Nr=300, Mo=2\n",
      "Charge density will be considered\n",
      "20/20"
     ]
    }
   ],
   "source": [
    "xmin, xmax = -7.*Size,7.*Size\n",
    "lrg = 30*Size\n",
    "Nx = 300\n",
    "Nr = 300\n",
    "\n",
    "dx = (xmax-xmin)/Nx\n",
    "dr = lrg/Nr\n",
    "dt = 1.0\n",
    "\n",
    "solver_in = {\n",
    "    'Grid':(xmin, xmax,lrg,dx,dr),'TimeStep':dt,'MaxAzimuthMode':1,\n",
    "    'Features':('StaticKick',),'Xchunked':(16,6)\n",
    "}\n",
    "\n",
    "beam_in = {\n",
    "    'Grid':(xmin, xmax,lrg,dx,dr),'TimeStep':dt,'Charge':-1.,'Mass':1.,\n",
    "    'Density':nmax, 'FixedCell':(4,8,8),'MomentaMeans':(pz0,0.,0.),\n",
    "    'Xchunked':(16,6)\n",
    "}\n",
    "\n",
    "solver = Solver(solver_in)\n",
    "beam = Specie(beam_in)\n",
    "\n",
    "MovingFrame = {'TimeStep':dt,'Steps':1,'Features':('NoSorting','Staged')}\n",
    "\n",
    "chimera_in = {\n",
    "    'Solvers':(solver,),'Particles':(beam,),'MovingFrames':(MovingFrame,)\n",
    "}\n",
    "\n",
    "fu = lambda x,y,z: np.exp(-0.5*(x**2+y**2+z**2)/Size**2)\n",
    "beam.add_particles(*beam.gen_parts(Domain=(-3.5*Size,3.5*Size, 0.0, 3.5*Size),ProfileFunc=fu))\n",
    "\n",
    "Chimera = ChimeraRun(chimera_in)\n",
    "Diags = Diagnostics(Chimera,(),out_folder=None)\n",
    "\n",
    "for i in range(int(SimLgth/dt)+1):\n",
    "    Chimera.make_step(i)\n",
    "    sys.stdout.write('\\r'+str(i)+'/'+str(int(SimLgth/dt)))\n",
    "    sys.stdout.flush()  "
   ]
  },
  {
   "cell_type": "markdown",
   "metadata": {},
   "source": [
    "## CHIMERA with solver in full PIC mode"
   ]
  },
  {
   "cell_type": "code",
   "execution_count": 5,
   "metadata": {},
   "outputs": [
    {
     "name": "stdout",
     "output_type": "stream",
     "text": [
      "Constructing solver with cylindric boundaries:\n",
      "** left=-19.2, right=21, radius=90.1\n",
      "Spatial and temporal resolutions:\n",
      "** dx=0.14, dr=0.3, dt=0.06\n",
      "Solver is active from t=0 to t=inf\n",
      "Grid sizes are:\n",
      "** Nx=288, Nr=300, Mo=2\n",
      "Charge density will be considered\n",
      "7/333"
     ]
    },
    {
     "ename": "KeyboardInterrupt",
     "evalue": "",
     "output_type": "error",
     "traceback": [
      "\u001b[0;31m---------------------------------------------------------------------------\u001b[0m",
      "\u001b[0;31mKeyboardInterrupt\u001b[0m                         Traceback (most recent call last)",
      "\u001b[0;32m<ipython-input-5-e5303bc99739>\u001b[0m in \u001b[0;36m<module>\u001b[0;34m()\u001b[0m\n\u001b[1;32m     35\u001b[0m \u001b[0;34m\u001b[0m\u001b[0m\n\u001b[1;32m     36\u001b[0m \u001b[0;32mfor\u001b[0m \u001b[0mi\u001b[0m \u001b[0;32min\u001b[0m \u001b[0mrange\u001b[0m\u001b[0;34m(\u001b[0m\u001b[0mint\u001b[0m\u001b[0;34m(\u001b[0m\u001b[0mSimLgth\u001b[0m\u001b[0;34m/\u001b[0m\u001b[0mdt\u001b[0m\u001b[0;34m)\u001b[0m\u001b[0;34m+\u001b[0m\u001b[0;36m1\u001b[0m\u001b[0;34m)\u001b[0m\u001b[0;34m:\u001b[0m\u001b[0;34m\u001b[0m\u001b[0m\n\u001b[0;32m---> 37\u001b[0;31m     \u001b[0mChimera1\u001b[0m\u001b[0;34m.\u001b[0m\u001b[0mmake_step\u001b[0m\u001b[0;34m(\u001b[0m\u001b[0mi\u001b[0m\u001b[0;34m)\u001b[0m\u001b[0;34m\u001b[0m\u001b[0m\n\u001b[0m\u001b[1;32m     38\u001b[0m     \u001b[0msys\u001b[0m\u001b[0;34m.\u001b[0m\u001b[0mstdout\u001b[0m\u001b[0;34m.\u001b[0m\u001b[0mwrite\u001b[0m\u001b[0;34m(\u001b[0m\u001b[0;34m'\\r'\u001b[0m\u001b[0;34m+\u001b[0m\u001b[0mstr\u001b[0m\u001b[0;34m(\u001b[0m\u001b[0mi\u001b[0m\u001b[0;34m)\u001b[0m\u001b[0;34m+\u001b[0m\u001b[0;34m'/'\u001b[0m\u001b[0;34m+\u001b[0m\u001b[0mstr\u001b[0m\u001b[0;34m(\u001b[0m\u001b[0mint\u001b[0m\u001b[0;34m(\u001b[0m\u001b[0mSimLgth\u001b[0m\u001b[0;34m/\u001b[0m\u001b[0mdt\u001b[0m\u001b[0;34m)\u001b[0m\u001b[0;34m)\u001b[0m\u001b[0;34m)\u001b[0m\u001b[0;34m\u001b[0m\u001b[0m\n\u001b[1;32m     39\u001b[0m     \u001b[0msys\u001b[0m\u001b[0;34m.\u001b[0m\u001b[0mstdout\u001b[0m\u001b[0;34m.\u001b[0m\u001b[0mflush\u001b[0m\u001b[0;34m(\u001b[0m\u001b[0;34m)\u001b[0m\u001b[0;34m\u001b[0m\u001b[0m\n",
      "\u001b[0;32m~/CODES/chimera/moduls/chimera_main.py\u001b[0m in \u001b[0;36mmake_step\u001b[0;34m(self, istep)\u001b[0m\n\u001b[1;32m     87\u001b[0m                 \u001b[0mself\u001b[0m\u001b[0;34m.\u001b[0m\u001b[0mframe_act\u001b[0m\u001b[0;34m(\u001b[0m\u001b[0mistep\u001b[0m\u001b[0;34m,\u001b[0m\u001b[0;34m'stage2'\u001b[0m\u001b[0;34m)\u001b[0m\u001b[0;34m\u001b[0m\u001b[0m\n\u001b[1;32m     88\u001b[0m                 \u001b[0mself\u001b[0m\u001b[0;34m.\u001b[0m\u001b[0mproject_density\u001b[0m\u001b[0;34m(\u001b[0m\u001b[0;34m)\u001b[0m\u001b[0;34m\u001b[0m\u001b[0m\n\u001b[0;32m---> 89\u001b[0;31m                 \u001b[0mself\u001b[0m\u001b[0;34m.\u001b[0m\u001b[0mupdate_fields\u001b[0m\u001b[0;34m(\u001b[0m\u001b[0;34m)\u001b[0m\u001b[0;34m\u001b[0m\u001b[0m\n\u001b[0m\u001b[1;32m     90\u001b[0m                 \u001b[0mself\u001b[0m\u001b[0;34m.\u001b[0m\u001b[0mproject_fields\u001b[0m\u001b[0;34m(\u001b[0m\u001b[0;34m)\u001b[0m\u001b[0;34m\u001b[0m\u001b[0m\n\u001b[1;32m     91\u001b[0m                 \u001b[0;32mfor\u001b[0m \u001b[0mspecies\u001b[0m \u001b[0;32min\u001b[0m \u001b[0mself\u001b[0m\u001b[0;34m.\u001b[0m\u001b[0mParticles\u001b[0m\u001b[0;34m:\u001b[0m \u001b[0mspecies\u001b[0m\u001b[0;34m.\u001b[0m\u001b[0mmake_device\u001b[0m\u001b[0;34m(\u001b[0m\u001b[0mistep\u001b[0m\u001b[0;34m)\u001b[0m\u001b[0;34m\u001b[0m\u001b[0m\n",
      "\u001b[0;32m~/CODES/chimera/moduls/chimera_main.py\u001b[0m in \u001b[0;36mupdate_fields\u001b[0;34m(self)\u001b[0m\n\u001b[1;32m    125\u001b[0m                                         \u001b[0msolver\u001b[0m\u001b[0;34m.\u001b[0m\u001b[0mfield_drift\u001b[0m\u001b[0;34m(\u001b[0m\u001b[0mPXmean\u001b[0m\u001b[0;34m)\u001b[0m\u001b[0;34m\u001b[0m\u001b[0m\n\u001b[1;32m    126\u001b[0m                         \u001b[0;32melse\u001b[0m\u001b[0;34m:\u001b[0m\u001b[0;34m\u001b[0m\u001b[0m\n\u001b[0;32m--> 127\u001b[0;31m                                 \u001b[0msolver\u001b[0m\u001b[0;34m.\u001b[0m\u001b[0mpoiss_corr\u001b[0m\u001b[0;34m(\u001b[0m\u001b[0;34m)\u001b[0m\u001b[0;34m\u001b[0m\u001b[0m\n\u001b[0m\u001b[1;32m    128\u001b[0m                                 \u001b[0msolver\u001b[0m\u001b[0;34m.\u001b[0m\u001b[0mmaxwell_solver\u001b[0m\u001b[0;34m(\u001b[0m\u001b[0;34m)\u001b[0m\u001b[0;34m\u001b[0m\u001b[0m\n\u001b[1;32m    129\u001b[0m \u001b[0;34m\u001b[0m\u001b[0m\n",
      "\u001b[0;32m~/CODES/chimera/moduls/solvers.py\u001b[0m in \u001b[0;36mpoiss_corr\u001b[0;34m(self, poiss_corr_num)\u001b[0m\n\u001b[1;32m    317\u001b[0m                 \u001b[0;32mfor\u001b[0m \u001b[0mcorr\u001b[0m \u001b[0;32min\u001b[0m \u001b[0mrange\u001b[0m\u001b[0;34m(\u001b[0m\u001b[0mpoiss_corr_num\u001b[0m\u001b[0;34m)\u001b[0m\u001b[0;34m:\u001b[0m\u001b[0;34m\u001b[0m\u001b[0m\n\u001b[1;32m    318\u001b[0m                         \u001b[0mself\u001b[0m\u001b[0;34m.\u001b[0m\u001b[0mData\u001b[0m\u001b[0;34m[\u001b[0m\u001b[0;34m'vec_fb'\u001b[0m\u001b[0;34m]\u001b[0m\u001b[0;34m[\u001b[0m\u001b[0;34m:\u001b[0m\u001b[0;34m]\u001b[0m \u001b[0;34m=\u001b[0m \u001b[0mself\u001b[0m\u001b[0;34m.\u001b[0m\u001b[0mData\u001b[0m\u001b[0;34m[\u001b[0m\u001b[0;34m'J_fb'\u001b[0m\u001b[0;34m]\u001b[0m\u001b[0;34m\u001b[0m\u001b[0m\n\u001b[0;32m--> 319\u001b[0;31m                         \u001b[0mself\u001b[0m\u001b[0;34m.\u001b[0m\u001b[0mFBGradDiv\u001b[0m\u001b[0;34m(\u001b[0m\u001b[0;34m)\u001b[0m\u001b[0;34m\u001b[0m\u001b[0m\n\u001b[0m\u001b[1;32m    320\u001b[0m                         \u001b[0;32mif\u001b[0m \u001b[0;34m'SpaceCharge'\u001b[0m \u001b[0;32min\u001b[0m \u001b[0mself\u001b[0m\u001b[0;34m.\u001b[0m\u001b[0mArgs\u001b[0m\u001b[0;34m[\u001b[0m\u001b[0;34m'Features'\u001b[0m\u001b[0;34m]\u001b[0m\u001b[0;34m:\u001b[0m\u001b[0;34m\u001b[0m\u001b[0m\n\u001b[1;32m    321\u001b[0m \t\t\t\tself.Data['J_fb'] = chimera.poiss_corr(\\\n",
      "\u001b[0;32m~/CODES/chimera/moduls/solvers.py\u001b[0m in \u001b[0;36mFBGradDiv\u001b[0;34m(self)\u001b[0m\n\u001b[1;32m    513\u001b[0m                 \u001b[0;32melse\u001b[0m\u001b[0;34m:\u001b[0m\u001b[0;34m\u001b[0m\u001b[0m\n\u001b[1;32m    514\u001b[0m \t\t\tself.Data['vec_fb'] = chimera.fb_graddiv(\\\n\u001b[0;32m--> 515\u001b[0;31m \t\t\t  self.Data['vec_fb'],*self.Args['FBDiff'])\n\u001b[0m\u001b[1;32m    516\u001b[0m \u001b[0;34m\u001b[0m\u001b[0m\n\u001b[1;32m    517\u001b[0m         \u001b[0;32mdef\u001b[0m \u001b[0mFBGradDens\u001b[0m\u001b[0;34m(\u001b[0m\u001b[0mself\u001b[0m\u001b[0;34m)\u001b[0m\u001b[0;34m:\u001b[0m\u001b[0;34m\u001b[0m\u001b[0m\n",
      "\u001b[0;31mKeyboardInterrupt\u001b[0m: "
     ]
    }
   ],
   "source": [
    "xmin, xmax = -7.*Size,7.*Size\n",
    "lrg = 30*Size\n",
    "Nx = 300\n",
    "Nr = 300\n",
    "\n",
    "dx = (xmax-xmin)/Nx\n",
    "dr = lrg/Nr\n",
    "dt = 0.06\n",
    "\n",
    "solver_in1 = {\n",
    "    'Grid':(xmin, xmax,lrg,dx,dr),'TimeStep':dt,'MaxAzimuthMode':1,\n",
    "    'Features':('SpaceCharge',),'Xchunked':(16,6)\n",
    "}\n",
    "\n",
    "beam_in1 = {\n",
    "    'Grid':(xmin, xmax,lrg,dx,dr),'TimeStep':dt,'Charge':-1.,'Mass':1.,\n",
    "    'Density':nmax, 'FixedCell':(4,8,8),'MomentaMeans':(pz0,0.,0.),\n",
    "    'Features':(),'Xchunked':(16,6)\n",
    "}\n",
    "\n",
    "solver1 = Solver(solver_in1)\n",
    "beam1 = Specie(beam_in1)\n",
    "\n",
    "MovingFrame = {'TimeStep':dt,'Steps':1,'Features':('NoSorting','Staged')}\n",
    "\n",
    "chimera_in1 = {\n",
    "    'Solvers':(solver1,),'Particles':(beam1,),'MovingFrames':(MovingFrame,)\n",
    "}\n",
    "\n",
    "fu = lambda x,y,z: np.exp(-0.5*(x**2+y**2+z**2)/Size**2)\n",
    "beam1.add_particles(*beam1.gen_parts(Domain=(-3.5*Size,3.5*Size, 0.0, 3.5*Size),ProfileFunc=fu))\n",
    "\n",
    "Chimera1 = ChimeraRun(chimera_in1)\n",
    "Diags1 = Diagnostics(Chimera1,(),out_folder=None)\n",
    "\n",
    "for i in range(int(SimLgth/dt)+1):\n",
    "    Chimera1.make_step(i)\n",
    "    sys.stdout.write('\\r'+str(i)+'/'+str(int(SimLgth/dt)))\n",
    "    sys.stdout.flush()"
   ]
  },
  {
   "cell_type": "code",
   "execution_count": null,
   "metadata": {},
   "outputs": [],
   "source": [
    "fig,((ax1,ax2,ax3),(ax4,ax5,ax6)) = plt.subplots(2,3,figsize=(16,12),dpi=200)\n",
    "\n",
    "dpmax = (beam.Data['momenta'][0].max()-pz0)*1e3\n",
    "range1 = [[SimLgth-10,SimLgth+10],[-2*dpmax,+2*dpmax]]\n",
    "range2=[[-15,15],[-2,2]]\n",
    "weight2pC = beam.Args['weight2pC']\n",
    "\n",
    "dns_max = 1e-3\n",
    "\n",
    "ax1.hist2d(beam1.Data['coords'][0],(beam1.Data['momenta'][0]-pz0)*1e3,weights=-beam1.Data['weights'],\n",
    "           bins=120,range=range1,vmax=dns_max,cmap=plt.cm.spectral);\n",
    "ax4.hist2d(beam1.Data['coords'][2],beam1.Data['momenta'][2]*1e4,weights=-beam1.Data['weights'],\n",
    "           bins=120,range=range2,vmax=dns_max,cmap=plt.cm.spectral);\n",
    "\n",
    "ax2.hist2d(beam.Data['coords'][0],(beam.Data['momenta'][0]-pz0)*1e3,weights=-beam.Data['weights'],\n",
    "           bins=120,range=range1,vmax=dns_max,cmap=plt.cm.spectral);\n",
    "ax5.hist2d(beam.Data['coords'][2],beam.Data['momenta'][2]*1e4,weights=-beam.Data['weights'],\n",
    "           bins=120,range=range2,vmax=5e-4,cmap=plt.cm.spectral);\n",
    "\n",
    "ax3.hist2d((-p_array.tau()+p_array.s)*1e6,(p_array.p())*p_array.E*1e6/0.511,weights=p_array.q_array,\n",
    "           bins=120,range=range1,vmax=dns_max*weight2pC*1e-12,cmap=plt.cm.spectral);\n",
    "ax6.hist2d(p_array.x()*1e6,p_array.px()*p_array.E*1e7/0.511,weights=p_array.q_array,\n",
    "           bins=120,range=range2,vmax=dns_max*weight2pC*1e-12,cmap=plt.cm.spectral);\n",
    "\n",
    "ax1.set_title('CHIMERA full PIC',fontsize=18);\n",
    "ax2.set_title('CHIMERA kicker',fontsize=18)\n",
    "ax3.set_title('OCELOT',fontsize=18)\n",
    "\n",
    "for ax in (ax4,ax5,ax6): ax.set_xlabel('coordinate ($\\mu$m)',fontsize=18)\n",
    "ax1.set_ylabel('$(p_\\parallel-p_{z0})\\cdot 10^3$',fontsize=18)\n",
    "ax4.set_ylabel('$p_\\perp\\cdot 10^4$',fontsize=18);"
   ]
  },
  {
   "cell_type": "code",
   "execution_count": null,
   "metadata": {},
   "outputs": [],
   "source": [
    "fig,((ax1,ax2),(ax3,ax4)) = plt.subplots(2,2,figsize=(16,10),dpi=200)\n",
    "\n",
    "extent = (solver1.Args['Xgrid'].min(),solver1.Args['Xgrid'].max(),\n",
    "          -solver1.Args['Rgrid'].max(),solver1.Args['Rgrid'].max())\n",
    "\n",
    "ee = Diags1.fld_out( {'Features':('Return',)} )[0]\n",
    "nn = Diags1.dns_out( {'Features':{'Return':0,'MaxMode':1}} )[0]\n",
    "\n",
    "ex =  np.real(np.hstack((ee[:,::-1,0,0] + ee[:,::-1,1,0],ee[:,1:,0,0] -ee[:,1:,1,0])))\n",
    "ey =  np.real(np.hstack((ee[:,::-1,0,1] - ee[:,::-1,1,1],ee[:,1:,0,1] +ee[:,1:,1,1])))\n",
    "bz =  np.real(np.hstack((ee[:,::-1,0,5] + ee[:,::-1,1,5],ee[:,1:,0,5] -ee[:,1:,1,5])))\n",
    "ne =  np.real(np.hstack((nn[:,::-1,0] + nn[:,::-1,1],nn[:,1:,0] -nn[:,1:,1])))\n",
    "\n",
    "pl1 = ax1.imshow(ex.T ,aspect='auto', extent=extent,origin='lower',cmap=plt.cm.seismic)\n",
    "pl2 = ax2.imshow((ey+bz).T ,aspect='auto', extent=extent,origin='lower',cmap=plt.cm.seismic)\n",
    "\n",
    "extent = (solver.Args['Xgrid'].min(),solver.Args['Xgrid'].max(),\n",
    "          -solver.Args['Rgrid'].max(),solver.Args['Rgrid'].max())\n",
    "\n",
    "ee = Diags.fld_out( {'Features':('Return',)} )[0]\n",
    "nn = Diags.dns_out( {'Features':{'Return':0,'MaxMode':1}} )[0]\n",
    "\n",
    "ex =  np.real(np.hstack((ee[:,::-1,0,0] + ee[:,::-1,1,0],ee[:,1:,0,0] -ee[:,1:,1,0])))\n",
    "ey =  np.real(np.hstack((ee[:,::-1,0,1] - ee[:,::-1,1,1],ee[:,1:,0,1] +ee[:,1:,1,1])))\n",
    "bz =  np.real(np.hstack((ee[:,::-1,0,5] + ee[:,::-1,1,5],ee[:,1:,0,5] -ee[:,1:,1,5])))\n",
    "ne =  np.real(np.hstack((nn[:,::-1,0] + nn[:,::-1,1],nn[:,1:,0] -nn[:,1:,1])))\n",
    "\n",
    "pl3 = ax3.imshow(ex.T ,aspect='auto', extent=extent,origin='lower',cmap=plt.cm.seismic)\n",
    "pl4 = ax4.imshow((ey+bz).T ,aspect='auto', extent=extent,origin='lower',cmap=plt.cm.seismic)\n",
    "\n",
    "#fig.colorbar(pl1,ax=ax1)\n",
    "#fig.colorbar(pl2,ax=ax2)\n",
    "#fig.colorbar(pl3,ax=ax3)\n",
    "#fig.colorbar(pl4,ax=ax4)\n",
    "\n",
    "ax1.set_title('$E_x$',fontsize=18);\n",
    "ax2.set_title('$E_y$',fontsize=18)\n",
    "for ax in (ax3,ax4,): ax.set_xlabel('x-coordinate ($\\mu$m)',fontsize=18)\n",
    "ax1.set_ylabel('CHIMERA full PIC \\n y-coordinate ($\\mu$m)',fontsize=18)\n",
    "ax3.set_ylabel('CHIMERA kicker \\n y-coordinate ($\\mu$m)',fontsize=18)"
   ]
  }
 ],
 "metadata": {
  "anaconda-cloud": {},
  "kernelspec": {
   "display_name": "Python 3",
   "language": "python",
   "name": "python3"
  },
  "language_info": {
   "codemirror_mode": {
    "name": "ipython",
    "version": 3
   },
   "file_extension": ".py",
   "mimetype": "text/x-python",
   "name": "python",
   "nbconvert_exporter": "python",
   "pygments_lexer": "ipython3",
   "version": "3.6.3"
  }
 },
 "nbformat": 4,
 "nbformat_minor": 1
}
